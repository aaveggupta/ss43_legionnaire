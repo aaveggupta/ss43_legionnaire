{
 "cells": [
  {
   "cell_type": "code",
   "execution_count": 23,
   "metadata": {},
   "outputs": [],
   "source": [
    "import numpy as np\n",
    "import pandas as pd\n",
    "import pickle"
   ]
  },
  {
   "cell_type": "code",
   "execution_count": 24,
   "metadata": {},
   "outputs": [],
   "source": [
    "model_symptoms=['itching','skin rash','nodal skin eruptions','continuous sneezing','shivering','chills','joint pain','stomach pain','acidity','ulcers on tongue','muscle wasting','vomiting','burning micturition','spotting  urination','fatigue','weight gain','anxiety','cold hands and feets','mood swings','weight loss','restlessness','lethargy','patches in throat','irregular sugar level','cough','high fever','sunken eyes','breathlessness','sweating','dehydration','indigestion','headache','yellowish skin','dark urine','nausea','loss of appetite','pain behind the eyes','back pain','constipation','abdominal pain','diarrhoea','mild fever','yellow urine','yellowing of eyes','acute liver failure','fluid overload','swelling of stomach','swelled lymph nodes','malaise','blurred and distorted vision','phlegm','throat irritation','redness of eyes','sinus pressure','runny nose','congestion','chest pain','weakness in limbs','fast heart rate','pain during bowel movements','pain in anal region','bloody stool','irritation in anus','neck pain','dizziness','cramps','bruising','obesity','swollen legs','swollen blood vessels','puffy face and eyes','enlarged thyroid','brittle nails','swollen extremeties','excessive hunger','extra marital contacts','drying and tingling lips','slurred speech','knee pain','hip joint pain','muscle weakness','stiff neck','swelling joints','movement stiffness','spinning movements','loss of balance','unsteadiness','weakness of one body side','loss of smell','bladder discomfort','foul smell of urine','continuous feel of urine','passage of gases','internal itching','toxic look (typhos)','depression','irritability','muscle pain','altered sensorium','red spots over body','belly pain','abnormal menstruation','dischromic  patches','watering from eyes','increased appetite','polyuria','family history','mucoid sputum','rusty sputum','lack of concentration','visual disturbances','receiving blood transfusion','receiving unsterile injections','coma','stomach bleeding','distention of abdomen','history of alcohol consumption','fluid overload.1','blood in sputum','prominent veins on calf','palpitations','painful walking','pus filled pimples','blackheads','scurring','skin peeling','silver like dusting','small dents in nails','inflammatory nails','blister','red sore around nose','yellow crust ooze']"
   ]
  },
  {
   "cell_type": "code",
   "execution_count": 25,
   "metadata": {},
   "outputs": [],
   "source": [
    "rfc=pickle.load(open('Random_forest.pkl','rb'))\n",
    "sgd=pickle.load(open('SGDmodel.pkl','rb'))\n",
    "mlp=pickle.load(open('MLPmodel.pkl','rb'))\n",
    "mnb=pickle.load(open('mnb.pkl','rb'))"
   ]
  },
  {
   "cell_type": "code",
   "execution_count": 39,
   "metadata": {},
   "outputs": [],
   "source": [
    "user_symptoms = ['neck pain','congestion']"
   ]
  },
  {
   "cell_type": "code",
   "execution_count": 46,
   "metadata": {},
   "outputs": [
    {
     "name": "stdout",
     "output_type": "stream",
     "text": [
      "Probability of  Cervical spondylosis is  28.999999999999996 %\n",
      "Probability of  Osteoarthristis is  20.0 %\n",
      "Probability of  AIDS is  6.0 %\n"
     ]
    }
   ],
   "source": [
    "rfc_symptom=np.zeros([132],dtype=float)\n",
    "l=rfc.classes_.tolist()\n",
    "m=[]\n",
    "for i in range(len(model_symptoms)):\n",
    "    if model_symptoms[i] in user_symptoms:\n",
    "        m.append(i)\n",
    "for i in m:\n",
    "    rfc_symptom[i]=1\n",
    "probab=rfc.predict_proba([rfc_symptom]).tolist()\n",
    "top3_rfc=[]\n",
    "for j in range(3):\n",
    "    max=-100000000\n",
    "    h=0\n",
    "    for i in range(len(probab[0])):\n",
    "        if probab[0][i]>max:\n",
    "            max=probab[0][i]\n",
    "            h=i \n",
    "    k=[]\n",
    "    k.append(l[h])\n",
    "    k.append(probab[0][h]*100)\n",
    "    top3_rfc.append(k)\n",
    "    probab[0][h]=-1  \n",
    "for i in top3_rfc:\n",
    "    print(\"Probability of \",i[0],\"is \",i[1],'%')     "
   ]
  },
  {
   "cell_type": "code",
   "execution_count": 47,
   "metadata": {},
   "outputs": [
    {
     "name": "stdout",
     "output_type": "stream",
     "text": [
      "Probability of  Cervical spondylosis is  41.16800804432476 %\n",
      "Probability of  Urinary tract infection is  7.75530088567641 %\n",
      "Probability of  Gastroenteritis is  6.988685233727349 %\n"
     ]
    }
   ],
   "source": [
    "sgd_symptom=np.zeros([132],dtype=float)\n",
    "l=sgd.classes_.tolist()\n",
    "m=[]\n",
    "for i in range(len(model_symptoms)):\n",
    "    if model_symptoms[i] in user_symptoms:\n",
    "        m.append(i)\n",
    "for i in m:\n",
    "    sgd_symptom[i]=1\n",
    "probab=sgd.predict_proba([sgd_symptom]).tolist()\n",
    "top3_sgd=[]\n",
    "for j in range(3):\n",
    "    max=-100000000\n",
    "    h=0\n",
    "    for i in range(len(probab[0])):\n",
    "        if probab[0][i]>max:\n",
    "            max=probab[0][i]\n",
    "            h=i \n",
    "    k=[]\n",
    "    k.append(l[h])\n",
    "    k.append(probab[0][h]*100)\n",
    "    top3_sgd.append(k)\n",
    "    probab[0][h]=-1  \n",
    "for i in top3_sgd:\n",
    "    print(\"Probability of \",i[0],\"is \",i[1],'%')     "
   ]
  },
  {
   "cell_type": "code",
   "execution_count": 48,
   "metadata": {},
   "outputs": [
    {
     "name": "stdout",
     "output_type": "stream",
     "text": [
      "Probability of  Cervical spondylosis is  36.153057543259074 %\n",
      "Probability of  Osteoarthristis is  7.365584499010063 %\n",
      "Probability of  Urinary tract infection is  3.7604739969741154 %\n"
     ]
    }
   ],
   "source": [
    "mlp_symptom=np.zeros([132],dtype=float)\n",
    "l=mlp.classes_.tolist()\n",
    "m=[]\n",
    "for i in range(len(model_symptoms)):\n",
    "    if model_symptoms[i] in user_symptoms:\n",
    "        m.append(i)\n",
    "for i in m:\n",
    "    mlp_symptom[i]=1\n",
    "probab=mlp.predict_proba([mlp_symptom]).tolist()\n",
    "top3_mlp=[]\n",
    "for j in range(3):\n",
    "    max=-100000000\n",
    "    h=0\n",
    "    for i in range(len(probab[0])):\n",
    "        if probab[0][i]>max:\n",
    "            max=probab[0][i]\n",
    "            h=i \n",
    "    k=[]\n",
    "    k.append(l[h])\n",
    "    k.append(probab[0][h]*100)\n",
    "    top3_mlp.append(k)\n",
    "    probab[0][h]=-1  \n",
    "for i in top3_mlp:\n",
    "    print(\"Probability of \",i[0],\"is \",i[1],'%')     "
   ]
  },
  {
   "cell_type": "code",
   "execution_count": 49,
   "metadata": {},
   "outputs": [
    {
     "name": "stdout",
     "output_type": "stream",
     "text": [
      "Probability of  Cervical spondylosis is  45.89476554754959 %\n",
      "Probability of  Osteoarthristis is  34.62745088857754 %\n",
      "Probability of  Common Cold is  5.557688397869754 %\n"
     ]
    }
   ],
   "source": [
    "mnb_symptom=np.zeros([132],dtype=float)\n",
    "l=mnb.classes_.tolist()\n",
    "m=[]\n",
    "for i in range(len(model_symptoms)):\n",
    "    if model_symptoms[i] in user_symptoms:\n",
    "        m.append(i)\n",
    "for i in m:\n",
    "    mnb_symptom[i]=1\n",
    "probab=mnb.predict_proba([mnb_symptom]).tolist()\n",
    "top3_mnb=[]\n",
    "for j in range(3):\n",
    "    max=-100000000\n",
    "    h=0\n",
    "    for i in range(len(probab[0])):\n",
    "        if probab[0][i]>max:\n",
    "            max=probab[0][i]\n",
    "            h=i \n",
    "    k=[]\n",
    "    k.append(l[h])\n",
    "    k.append(probab[0][h]*100)\n",
    "    top3_mnb.append(k)\n",
    "    probab[0][h]=-1  \n",
    "for i in top3_mnb:\n",
    "    print(\"Probability of \",i[0],\"is \",i[1],'%')     "
   ]
  },
  {
   "cell_type": "code",
   "execution_count": 197,
   "metadata": {},
   "outputs": [],
   "source": [
    "def top3_models(model_name):\n",
    "    model_name_symptom=np.zeros([132],dtype=float)\n",
    "    l=model_name.classes_.tolist()\n",
    "    m=[]\n",
    "    for i in range(len(model_symptoms)):\n",
    "        if model_symptoms[i] in user_symptoms:\n",
    "            m.append(i)\n",
    "    for i in m:\n",
    "        model_name_symptom[i]=1\n",
    "    probab=model_name.predict_proba([model_name_symptom]).tolist()\n",
    "    top3_model_name=[]\n",
    "    for j in range(3):\n",
    "        max=-100000000\n",
    "        h=0\n",
    "        for i in range(len(probab[0])):\n",
    "            if probab[0][i]>max:\n",
    "                max=probab[0][i]\n",
    "                h=i \n",
    "        k=[]\n",
    "        k.append(l[h])\n",
    "        k.append(probab[0][h]*100)\n",
    "        top3_model_name.append(k)\n",
    "        probab[0][h]=-1  \n",
    "    for i in top3_model_name:\n",
    "        print(\"Probability of \",i[0],\"is \",i[1],'%')     "
   ]
  },
  {
   "cell_type": "code",
   "execution_count": 198,
   "metadata": {},
   "outputs": [
    {
     "name": "stdout",
     "output_type": "stream",
     "text": [
      "Probability of  Cervical spondylosis is  28.999999999999996 %\n",
      "Probability of  Osteoarthristis is  20.0 %\n",
      "Probability of  AIDS is  6.0 %\n"
     ]
    }
   ],
   "source": [
    "top3_models(rfc)"
   ]
  },
  {
   "cell_type": "code",
   "execution_count": 50,
   "metadata": {},
   "outputs": [
    {
     "name": "stdout",
     "output_type": "stream",
     "text": [
      "[['Cervical spondylosis', 28.999999999999996], ['Osteoarthristis', 20.0], ['AIDS', 6.0]] [['Cervical spondylosis', 41.16800804432476], ['Urinary tract infection', 7.75530088567641], ['Gastroenteritis', 6.988685233727349]] [['Cervical spondylosis', 45.89476554754959], ['Osteoarthristis', 34.62745088857754], ['Common Cold', 5.557688397869754]] [['Cervical spondylosis', 36.153057543259074], ['Osteoarthristis', 7.365584499010063], ['Urinary tract infection', 3.7604739969741154]]\n"
     ]
    }
   ],
   "source": [
    "print(top3_rfc,top3_sgd,top3_mnb,top3_mlp)"
   ]
  },
  {
   "cell_type": "code",
   "execution_count": 106,
   "metadata": {},
   "outputs": [
    {
     "data": {
      "text/plain": [
       "{'Urinary tract infection': 2,\n",
       " 'AIDS': 1,\n",
       " 'Common Cold': 1,\n",
       " 'Osteoarthristis': 3,\n",
       " 'Cervical spondylosis': 4,\n",
       " 'Gastroenteritis': 1}"
      ]
     },
     "execution_count": 106,
     "metadata": {},
     "output_type": "execute_result"
    }
   ],
   "source": [
    "top3=[]\n",
    "disease=[]\n",
    "disease+=top3_mnb\n",
    "disease+=top3_sgd\n",
    "disease+=top3_rfc\n",
    "disease+=top3_mlp\n",
    "dis=[]\n",
    "max={}\n",
    "for i in disease:\n",
    "        dis.append(i[0])\n",
    "for k in set(dis):\n",
    "    max[k]=dis.count(k)\n",
    "max     "
   ]
  },
  {
   "cell_type": "code",
   "execution_count": 107,
   "metadata": {},
   "outputs": [],
   "source": [
    "from collections import OrderedDict\n",
    "max = OrderedDict(sorted(max.items(), key=lambda kv: (kv[1],kv[0]), reverse=True))"
   ]
  },
  {
   "cell_type": "code",
   "execution_count": 108,
   "metadata": {},
   "outputs": [],
   "source": [
    "for i,j in zip(max,range(3)):\n",
    "    top3.append([i])"
   ]
  },
  {
   "cell_type": "code",
   "execution_count": 109,
   "metadata": {},
   "outputs": [
    {
     "data": {
      "text/plain": [
       "[['Cervical spondylosis'], ['Osteoarthristis'], ['Urinary tract infection']]"
      ]
     },
     "execution_count": 109,
     "metadata": {},
     "output_type": "execute_result"
    }
   ],
   "source": [
    "top3"
   ]
  },
  {
   "cell_type": "code",
   "execution_count": 111,
   "metadata": {},
   "outputs": [],
   "source": [
    "for i in range(3):\n",
    "    avg=0.0\n",
    "    avg_count=0\n",
    "    for j in disease:\n",
    "        if j[0]==top3[i][0]:\n",
    "            avg+=j[1]\n",
    "            avg_count+=1\n",
    "    top3[i].append(avg/avg_count)       "
   ]
  },
  {
   "cell_type": "code",
   "execution_count": 112,
   "metadata": {},
   "outputs": [
    {
     "data": {
      "text/plain": [
       "[['Cervical spondylosis', 38.05395778378335],\n",
       " ['Osteoarthristis', 20.66434512919587],\n",
       " ['Urinary tract infection', 5.757887441325263]]"
      ]
     },
     "execution_count": 112,
     "metadata": {},
     "output_type": "execute_result"
    }
   ],
   "source": [
    "top3"
   ]
  },
  {
   "cell_type": "code",
   "execution_count": 170,
   "metadata": {},
   "outputs": [],
   "source": [
    "information_ofD=['(vertigo) Paroxysmsal  Positional Vertigo', 'nil', 'otolaryngologist(ENT specialist)','AIDS', 'HIV', 'Infectious Disease specialist','Acne', 'nil', 'Dermatologist','Alcoholic hepatitis', 'nil', 'Gastroenterologist or commonly liver specialist','Allergy', 'nil', 'allergist','Arthritis', 'nil', 'Rheumatologists','Bronchial Asthma', 'Asthma', 'allergist','Cervical spondylosis', 'Arthritis of neck', 'Neurosurgeon and orthopedic surgeon','Chicken pox', 'nil', 'Dermatologist','Chronic cholestasis', 'Cholestasis', 'liver specialist','Common Cold', 'nil', 'nil','Dengue', 'nil', 'Infectious disease specialist','Diabetes ', 'nil', 'endocrinologist','Dimorphic hemmorhoids(piles)', 'piles', 'gastroenterologist','Drug Reaction', 'nil', 'allergist','Fungal infection', 'nil', 'Infectious disease specialist','GERD', 'Acid reflux', 'specialist in medicine','Gastroenteritis', 'gastro', 'gastroenterologist','Heart attack', 'nil', 'Cardiologist','hepatitis A', 'hepatovirus', 'gastroenterologist','Hepatitis B', 'nil', 'gastroenterologist','Hepatitis C', 'nil', 'gastroenterologist','Hepatitis D', 'nil', 'gastroenterologist','Hepatitis E', 'nil', 'gastroenterologist','Hypertension', 'high blood pressure', 'Cardiologist','Hyperthyroidism', 'overactive thyroid', 'endocrinologist','Hypoglycemia', 'low blood sugar', 'endocrinologist','Hypothyroidism', 'nil', 'endocrinologist','Impetigo', 'Skin infection', 'dermatologist','Jaundice', 'yellow fever', 'gastroenterologist','Malaria', 'nil', 'Infectious disease specialist','Migraine', 'nil', 'neurologist','Osteoarthristis', 'degenerative joint disease', 'Rheumatologist','Paralysis (brain hemorrhage)', 'nil', 'neurosurgeon','Peptic ulcer diseae', 'gastric ulcer', 'gastroenterologist','Pneumonia', 'nil', 'pulmonologist','Psoriasis', 'nil', 'dermatologist','Tuberculosis', 'TB', 'Infectious disease specialist','Typhoid', 'nil', 'Infectious disease specialist','Urinary tract infection', 'nil', 'Urologist','Varicose veins', 'spider veins', 'vascular surgeon']"
   ]
  },
  {
   "cell_type": "code",
   "execution_count": 114,
   "metadata": {},
   "outputs": [],
   "source": [
    "precautions=pd.read_csv(\"C:\\\\Users\\\\anush\\\\Downloads\\\\datasethealth\\\\symptom_precaution.csv\")"
   ]
  },
  {
   "cell_type": "code",
   "execution_count": 115,
   "metadata": {},
   "outputs": [],
   "source": [
    "precautions.columns=precautions.columns.str.replace('_',' ')"
   ]
  },
  {
   "cell_type": "code",
   "execution_count": 173,
   "metadata": {},
   "outputs": [],
   "source": [
    "def status(value):\n",
    "    if value>35:\n",
    "        return 'high'\n",
    "    elif value>15:\n",
    "        return 'medium'\n",
    "    else:\n",
    "        return 'low'"
   ]
  },
  {
   "cell_type": "code",
   "execution_count": 174,
   "metadata": {},
   "outputs": [],
   "source": [
    "\n",
    "def info(dise,value):\n",
    "    infor=\"\"\n",
    "    val=status(value)\n",
    "    ind=information_ofD.index(dise.strip())\n",
    "    infor+=\"Disease:- \"+dise+\"\\n\"\n",
    "    infor+=\"Probability:- \"+val+\"\\n\"\n",
    "    if information_ofD[ind+1]!='nil':\n",
    "        infor+=\"Common Name:- \"+information_ofD[ind+1]+\"\\n\"\n",
    "    return infor    "
   ]
  },
  {
   "cell_type": "code",
   "execution_count": 175,
   "metadata": {},
   "outputs": [
    {
     "name": "stdout",
     "output_type": "stream",
     "text": [
      "Disease:- AIDS\n",
      "Probability:- high\n",
      "Common Name:- HIV\n",
      "Type of Doctor:- Infectious Disease specialist\n",
      "\n"
     ]
    }
   ],
   "source": [
    "print(info('AIDS',78))"
   ]
  },
  {
   "cell_type": "code",
   "execution_count": 180,
   "metadata": {},
   "outputs": [],
   "source": [
    "Serious_Diseases=['AIDS','Chicken pox','Dengue','Diabetes ','Dimorphic hemmorhoids(piles)','Heart attack','Hepatitis C','Hepatitis D','Hypertension ','Hyperthyroidism','Jaundice','Malaria','Osteoarthristis','Paralysis (brain hemorrhage)','Pneumonia','Tuberculosis','Typhoid','Urinary tract infection']"
   ]
  },
  {
   "cell_type": "code",
   "execution_count": 184,
   "metadata": {},
   "outputs": [
    {
     "name": "stdout",
     "output_type": "stream",
     "text": [
      "You should consult a doctor\n"
     ]
    }
   ],
   "source": [
    "j=\"AIDS\"\n",
    "if j.strip() in Serious_Diseases:\n",
    "    print(\"You should consult a doctor\")\n",
    "    ind=information_ofD.index(j.strip())\n",
    "else:\n",
    "    print(\"You can take following Primary Precautions \")\n",
    "    for i in range(len(precautions['Disease'])):\n",
    "        if precautions['Disease'][i].strip()==j.strip():\n",
    "            for k in range(4):\n",
    "                print(precautions['Precaution '+str(k+1)][i])"
   ]
  },
  {
   "cell_type": "code",
   "execution_count": 199,
   "metadata": {},
   "outputs": [],
   "source": [
    "def precau(dise):\n",
    "    precaut=\"\"\n",
    "    if j.strip() in Serious_Diseases:\n",
    "        precaut+=\"You should consult a doctor\"\n",
    "        ind=information_ofD.index(j.strip())\n",
    "        if information_ofD[ind+2]!='nil':\n",
    "            precaut+=\"\\nType:-\"+information_ofD[ind+2]\n",
    "    else:\n",
    "        precaut+=\"You can take following Primary Precautions \"+\"\\n\"\n",
    "        for i in range(len(precautions['Disease'])):\n",
    "            if precautions['Disease'][i].strip()==dise.strip():\n",
    "                for k in range(4):\n",
    "                    precaut+=precautions['Precaution '+str(k+1)][i]+\"\\n\"\n",
    "    return precaut"
   ]
  },
  {
   "cell_type": "code",
   "execution_count": 200,
   "metadata": {},
   "outputs": [
    {
     "name": "stdout",
     "output_type": "stream",
     "text": [
      "You should consult a doctor\n",
      "Type:-Infectious Disease specialist\n"
     ]
    }
   ],
   "source": [
    "print(precau('AIDS'))"
   ]
  },
  {
   "cell_type": "code",
   "execution_count": 195,
   "metadata": {},
   "outputs": [],
   "source": [
    "result=\"\"\n",
    "result+=\"According to my predictions\"+\"\\n\"\n",
    "for i in top3:\n",
    "    result+=info(i[0],i[1])\n",
    "result+=\"Major Disease \"+top3[0][0]+\"\\n\"\n",
    "result+=precau(top3[0][0])"
   ]
  },
  {
   "cell_type": "code",
   "execution_count": 196,
   "metadata": {},
   "outputs": [
    {
     "name": "stdout",
     "output_type": "stream",
     "text": [
      "According to my predictions\n",
      "Disease:- Cervical spondylosis\n",
      "Probability:- high\n",
      "Common Name:- Arthritis of neck\n",
      "Type of Doctor:- Neurosurgeon and orthopedic surgeon\n",
      "Disease:- Osteoarthristis\n",
      "Probability:- medium\n",
      "Common Name:- degenerative joint disease\n",
      "Type of Doctor:- Rheumatologist\n",
      "Disease:- Urinary tract infection\n",
      "Probability:- low\n",
      "Type of Doctor:- Urologist\n",
      "Major Disease Cervical spondylosis\n",
      "You should consult a doctor\n",
      "Type:-Infectious Disease specialist\n"
     ]
    }
   ],
   "source": [
    "print(result)"
   ]
  },
  {
   "cell_type": "code",
   "execution_count": 7,
   "metadata": {},
   "outputs": [],
   "source": [
    "emergency=['heart attack','1.Give CPR: Push hard and fast Push down at least two inches at a rate of 100 to 120 pushes a minute in the center of the chest, allowing the chest to come back up to its normal position after each push.\\n2.Use an AED Use the automated external defibrillator as soon as it arrives. Turn it on and follow the prompts.\\n3.Do this until the advance training takes over.','panic attack','1.Use deep breathing.\\n2.Close your eyes.\\n3.Use muscle relaxation techniques.','brain attack','1.Try to smile for checking one side of the face droop.\\n 2.Try to raise both arms and check does one arm drift downward.\\n3.Try to repeat a simple sentence and check are the words slurred.\\n4.Go to hospital immediately.' ]"
   ]
  },
  {
   "cell_type": "code",
   "execution_count": 8,
   "metadata": {},
   "outputs": [
    {
     "name": "stdout",
     "output_type": "stream",
     "text": [
      "1.Use deep breathing.\n",
      "2.Close your eyes.\n",
      "3.Use muscle relaxation techniques.\n"
     ]
    }
   ],
   "source": [
    "k='panic attack'\n",
    "if k in emergency:\n",
    "    index=emergency.index(k)\n",
    "    print(emergency[index+1])"
   ]
  }
 ],
 "metadata": {
  "kernelspec": {
   "display_name": "Python 3",
   "language": "python",
   "name": "python3"
  },
  "language_info": {
   "codemirror_mode": {
    "name": "ipython",
    "version": 3
   },
   "file_extension": ".py",
   "mimetype": "text/x-python",
   "name": "python",
   "nbconvert_exporter": "python",
   "pygments_lexer": "ipython3",
   "version": "3.7.4"
  }
 },
 "nbformat": 4,
 "nbformat_minor": 2
}
